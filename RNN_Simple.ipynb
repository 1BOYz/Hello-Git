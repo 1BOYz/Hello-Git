{
  "nbformat": 4,
  "nbformat_minor": 0,
  "metadata": {
    "colab": {
      "name": "RNN Simple.ipynb",
      "provenance": [],
      "collapsed_sections": [],
      "authorship_tag": "ABX9TyPDz/vft9Cft2b+MSlpomDZ",
      "include_colab_link": true
    },
    "kernelspec": {
      "name": "python3",
      "display_name": "Python 3"
    }
  },
  "cells": [
    {
      "cell_type": "markdown",
      "metadata": {
        "id": "view-in-github",
        "colab_type": "text"
      },
      "source": [
        "<a href=\"https://colab.research.google.com/github/1BOYz/Hello-Git/blob/master/RNN_Simple.ipynb\" target=\"_parent\"><img src=\"https://colab.research.google.com/assets/colab-badge.svg\" alt=\"Open In Colab\"/></a>"
      ]
    },
    {
      "cell_type": "code",
      "metadata": {
        "id": "jp1C7ejPrf7j"
      },
      "source": [
        "import torch\r\n",
        "import torch.nn as nn\r\n",
        "\r\n",
        "import seaborn as sns\r\n",
        "import pandas as pd\r\n",
        "import numpy as np\r\n",
        "import matplotlib.pyplot as plt\r\n",
        "\r\n",
        "%matplotlib inline"
      ],
      "execution_count": null,
      "outputs": []
    },
    {
      "cell_type": "code",
      "metadata": {
        "colab": {
          "base_uri": "https://localhost:8080/"
        },
        "id": "zc20zlJvyT68",
        "outputId": "e0c66358-8ebd-4f02-c0da-39cc46599456"
      },
      "source": [
        "sns.get_dataset_names()"
      ],
      "execution_count": null,
      "outputs": [
        {
          "output_type": "execute_result",
          "data": {
            "text/plain": [
              "['anagrams',\n",
              " 'anscombe',\n",
              " 'attention',\n",
              " 'brain_networks',\n",
              " 'car_crashes',\n",
              " 'diamonds',\n",
              " 'dots',\n",
              " 'exercise',\n",
              " 'flights',\n",
              " 'fmri',\n",
              " 'gammas',\n",
              " 'geyser',\n",
              " 'iris',\n",
              " 'mpg',\n",
              " 'penguins',\n",
              " 'planets',\n",
              " 'tips',\n",
              " 'titanic']"
            ]
          },
          "metadata": {
            "tags": []
          },
          "execution_count": 10
        }
      ]
    },
    {
      "cell_type": "code",
      "metadata": {
        "colab": {
          "base_uri": "https://localhost:8080/",
          "height": 204
        },
        "id": "6YTQ1McQyg59",
        "outputId": "6862ca1b-6544-4ced-e0c9-7f24bb6123b3"
      },
      "source": [
        "flight_data = sns.load_dataset('flights')\r\n",
        "flight_data.head()"
      ],
      "execution_count": null,
      "outputs": [
        {
          "output_type": "execute_result",
          "data": {
            "text/html": [
              "<div>\n",
              "<style scoped>\n",
              "    .dataframe tbody tr th:only-of-type {\n",
              "        vertical-align: middle;\n",
              "    }\n",
              "\n",
              "    .dataframe tbody tr th {\n",
              "        vertical-align: top;\n",
              "    }\n",
              "\n",
              "    .dataframe thead th {\n",
              "        text-align: right;\n",
              "    }\n",
              "</style>\n",
              "<table border=\"1\" class=\"dataframe\">\n",
              "  <thead>\n",
              "    <tr style=\"text-align: right;\">\n",
              "      <th></th>\n",
              "      <th>year</th>\n",
              "      <th>month</th>\n",
              "      <th>passengers</th>\n",
              "    </tr>\n",
              "  </thead>\n",
              "  <tbody>\n",
              "    <tr>\n",
              "      <th>0</th>\n",
              "      <td>1949</td>\n",
              "      <td>Jan</td>\n",
              "      <td>112</td>\n",
              "    </tr>\n",
              "    <tr>\n",
              "      <th>1</th>\n",
              "      <td>1949</td>\n",
              "      <td>Feb</td>\n",
              "      <td>118</td>\n",
              "    </tr>\n",
              "    <tr>\n",
              "      <th>2</th>\n",
              "      <td>1949</td>\n",
              "      <td>Mar</td>\n",
              "      <td>132</td>\n",
              "    </tr>\n",
              "    <tr>\n",
              "      <th>3</th>\n",
              "      <td>1949</td>\n",
              "      <td>Apr</td>\n",
              "      <td>129</td>\n",
              "    </tr>\n",
              "    <tr>\n",
              "      <th>4</th>\n",
              "      <td>1949</td>\n",
              "      <td>May</td>\n",
              "      <td>121</td>\n",
              "    </tr>\n",
              "  </tbody>\n",
              "</table>\n",
              "</div>"
            ],
            "text/plain": [
              "   year month  passengers\n",
              "0  1949   Jan         112\n",
              "1  1949   Feb         118\n",
              "2  1949   Mar         132\n",
              "3  1949   Apr         129\n",
              "4  1949   May         121"
            ]
          },
          "metadata": {
            "tags": []
          },
          "execution_count": 11
        }
      ]
    },
    {
      "cell_type": "code",
      "metadata": {
        "colab": {
          "base_uri": "https://localhost:8080/"
        },
        "id": "HD6w08sIzB7b",
        "outputId": "71253e1d-6325-4a5c-ad0c-d607c5b5152c"
      },
      "source": [
        "flight_data.shape"
      ],
      "execution_count": null,
      "outputs": [
        {
          "output_type": "execute_result",
          "data": {
            "text/plain": [
              "(144, 3)"
            ]
          },
          "metadata": {
            "tags": []
          },
          "execution_count": 13
        }
      ]
    },
    {
      "cell_type": "code",
      "metadata": {
        "id": "dGhIO0PRzI3T"
      },
      "source": [
        "plt.rcParams[\"figure.figsize\"] = (15, 5)"
      ],
      "execution_count": null,
      "outputs": []
    },
    {
      "cell_type": "code",
      "metadata": {
        "colab": {
          "base_uri": "https://localhost:8080/",
          "height": 346
        },
        "id": "M5zm3aym1Cy9",
        "outputId": "6a4db850-22cc-4aed-c15b-6efa50af2696"
      },
      "source": [
        "plt.title('Mount vs Passenger')\r\n",
        "plt.ylabel('Total Passengers')\r\n",
        "plt.xlabel('Mounts')\r\n",
        "plt.grid(True)\r\n",
        "plt.autoscale(axis='x', tight=True)\r\n",
        "plt.plot(flight_data['passengers'])"
      ],
      "execution_count": null,
      "outputs": [
        {
          "output_type": "execute_result",
          "data": {
            "text/plain": [
              "[<matplotlib.lines.Line2D at 0x7f88f35f3160>]"
            ]
          },
          "metadata": {
            "tags": []
          },
          "execution_count": 17
        },
        {
          "output_type": "display_data",
          "data": {
            "image/png": "[encoded data removed]",
            "text/plain": [
              "<Figure size 1080x360 with 1 Axes>"
            ]
          },
          "metadata": {
            "tags": [],
            "needs_background": "light"
          }
        }
      ]
    },
    {
      "cell_type": "code",
      "metadata": {
        "colab": {
          "base_uri": "https://localhost:8080/"
        },
        "id": "0AUweCmn2W5V",
        "outputId": "430b5fe2-d457-4eb1-e4de-78eea01404ec"
      },
      "source": [
        "all_data = flight_data['passengers'].values.astype(float)\r\n",
        "print(all_data)"
      ],
      "execution_count": null,
      "outputs": [
        {
          "output_type": "stream",
          "text": [
            "[112. 118. 132. 129. 121. 135. 148. 148. 136. 119. 104. 118. 115. 126.\n",
            " 141. 135. 125. 149. 170. 170. 158. 133. 114. 140. 145. 150. 178. 163.\n",
            " 172. 178. 199. 199. 184. 162. 146. 166. 171. 180. 193. 181. 183. 218.\n",
            " 230. 242. 209. 191. 172. 194. 196. 196. 236. 235. 229. 243. 264. 272.\n",
            " 237. 211. 180. 201. 204. 188. 235. 227. 234. 264. 302. 293. 259. 229.\n",
            " 203. 229. 242. 233. 267. 269. 270. 315. 364. 347. 312. 274. 237. 278.\n",
            " 284. 277. 317. 313. 318. 374. 413. 405. 355. 306. 271. 306. 315. 301.\n",
            " 356. 348. 355. 422. 465. 467. 404. 347. 305. 336. 340. 318. 362. 348.\n",
            " 363. 435. 491. 505. 404. 359. 310. 337. 360. 342. 406. 396. 420. 472.\n",
            " 548. 559. 463. 407. 362. 405. 417. 391. 419. 461. 472. 535. 622. 606.\n",
            " 508. 461. 390. 432.]\n"
          ],
          "name": "stdout"
        }
      ]
    },
    {
      "cell_type": "code",
      "metadata": {
        "id": "vdu7QeZC61v1"
      },
      "source": [
        "test_data_size = 12\r\n",
        "\r\n",
        "train_data = all_data[:-test_data_size]\r\n",
        "test_data = all_data[-test_data_size:]"
      ],
      "execution_count": null,
      "outputs": []
    },
    {
      "cell_type": "markdown",
      "metadata": {
        "id": "RiordYjl8vgR"
      },
      "source": [
        "# Preprocessing use min max"
      ]
    },
    {
      "cell_type": "code",
      "metadata": {
        "id": "oGlNKtkS8QPD"
      },
      "source": [
        "from sklearn.preprocessing import MinMaxScaler\r\n",
        "\r\n",
        "scaler = MinMaxScaler(feature_range=(-1, 1))\r\n",
        "train_data_normalized = scaler.fit_transform(train_data.reshape(-1, 1))"
      ],
      "execution_count": null,
      "outputs": []
    },
    {
      "cell_type": "code",
      "metadata": {
        "colab": {
          "base_uri": "https://localhost:8080/"
        },
        "id": "D05AcLZy-NfA",
        "outputId": "c3e00912-2329-488a-8a2d-4047ab198ddf"
      },
      "source": [
        "train_data_tensor = torch.FloatTensor(train_data_normalized).view(-1)\r\n",
        "train_data_tensor"
      ],
      "execution_count": null,
      "outputs": [
        {
          "output_type": "execute_result",
          "data": {
            "text/plain": [
              "tensor([-0.9648, -0.9385, -0.8769, -0.8901, -0.9253, -0.8637, -0.8066, -0.8066,\n",
              "        -0.8593, -0.9341, -1.0000, -0.9385, -0.9516, -0.9033, -0.8374, -0.8637,\n",
              "        -0.9077, -0.8022, -0.7099, -0.7099, -0.7626, -0.8725, -0.9560, -0.8418,\n",
              "        -0.8198, -0.7978, -0.6747, -0.7407, -0.7011, -0.6747, -0.5824, -0.5824,\n",
              "        -0.6484, -0.7451, -0.8154, -0.7275, -0.7055, -0.6659, -0.6088, -0.6615,\n",
              "        -0.6527, -0.4989, -0.4462, -0.3934, -0.5385, -0.6176, -0.7011, -0.6044,\n",
              "        -0.5956, -0.5956, -0.4198, -0.4242, -0.4505, -0.3890, -0.2967, -0.2615,\n",
              "        -0.4154, -0.5297, -0.6659, -0.5736, -0.5604, -0.6308, -0.4242, -0.4593,\n",
              "        -0.4286, -0.2967, -0.1297, -0.1692, -0.3187, -0.4505, -0.5648, -0.4505,\n",
              "        -0.3934, -0.4330, -0.2835, -0.2747, -0.2703, -0.0725,  0.1429,  0.0681,\n",
              "        -0.0857, -0.2527, -0.4154, -0.2352, -0.2088, -0.2396, -0.0637, -0.0813,\n",
              "        -0.0593,  0.1868,  0.3582,  0.3231,  0.1033, -0.1121, -0.2659, -0.1121,\n",
              "        -0.0725, -0.1341,  0.1077,  0.0725,  0.1033,  0.3978,  0.5868,  0.5956,\n",
              "         0.3187,  0.0681, -0.1165,  0.0198,  0.0374, -0.0593,  0.1341,  0.0725,\n",
              "         0.1385,  0.4549,  0.7011,  0.7626,  0.3187,  0.1209, -0.0945,  0.0242,\n",
              "         0.1253,  0.0462,  0.3275,  0.2835,  0.3890,  0.6176,  0.9516,  1.0000,\n",
              "         0.5780,  0.3319,  0.1341,  0.3231])"
            ]
          },
          "metadata": {
            "tags": []
          },
          "execution_count": 29
        }
      ]
    },
    {
      "cell_type": "code",
      "metadata": {
        "id": "3-gVQJPLFNMT"
      },
      "source": [
        "train_window = 12"
      ],
      "execution_count": null,
      "outputs": []
    },
    {
      "cell_type": "code",
      "metadata": {
        "id": "1cq5FbRzAbSJ"
      },
      "source": [
        "def create_inout_sequences(input_data, tw):\r\n",
        "  inout_seq = []\r\n",
        "  L = len(input_data)\r\n",
        "  for i in range(L - tw):\r\n",
        "    train_seq = input_data[i:i+tw]\r\n",
        "    train_label = input_data[i+tw:i+tw+1]\r\n",
        "    inout_seq.append((train_seq, train_label))\r\n",
        "\r\n",
        "  return inout_seq"
      ],
      "execution_count": null,
      "outputs": []
    },
    {
      "cell_type": "code",
      "metadata": {
        "id": "1GwZkva7FGJp"
      },
      "source": [
        "train_inout_seq = create_inout_sequences(train_data_tensor, train_window)"
      ],
      "execution_count": null,
      "outputs": []
    },
    {
      "cell_type": "code",
      "metadata": {
        "colab": {
          "base_uri": "https://localhost:8080/"
        },
        "id": "uFhWDRDjlxlV",
        "outputId": "c4032553-8a90-44e2-9eb8-136cc1c16e07"
      },
      "source": [
        "train_inout_seq[:5]"
      ],
      "execution_count": null,
      "outputs": [
        {
          "output_type": "execute_result",
          "data": {
            "text/plain": [
              "[(tensor([-0.9648, -0.9385, -0.8769, -0.8901, -0.9253, -0.8637, -0.8066, -0.8066,\n",
              "          -0.8593, -0.9341, -1.0000, -0.9385]), tensor([-0.9516])),\n",
              " (tensor([-0.9385, -0.8769, -0.8901, -0.9253, -0.8637, -0.8066, -0.8066, -0.8593,\n",
              "          -0.9341, -1.0000, -0.9385, -0.9516]),\n",
              "  tensor([-0.9033])),\n",
              " (tensor([-0.8769, -0.8901, -0.9253, -0.8637, -0.8066, -0.8066, -0.8593, -0.9341,\n",
              "          -1.0000, -0.9385, -0.9516, -0.9033]), tensor([-0.8374])),\n",
              " (tensor([-0.8901, -0.9253, -0.8637, -0.8066, -0.8066, -0.8593, -0.9341, -1.0000,\n",
              "          -0.9385, -0.9516, -0.9033, -0.8374]), tensor([-0.8637])),\n",
              " (tensor([-0.9253, -0.8637, -0.8066, -0.8066, -0.8593, -0.9341, -1.0000, -0.9385,\n",
              "          -0.9516, -0.9033, -0.8374, -0.8637]), tensor([-0.9077]))]"
            ]
          },
          "metadata": {
            "tags": []
          },
          "execution_count": 58
        }
      ]
    },
    {
      "cell_type": "markdown",
      "metadata": {
        "id": "KPPOVUXL_GOv"
      },
      "source": [
        "# Define model"
      ]
    },
    {
      "cell_type": "code",
      "metadata": {
        "id": "NOq3sETGD131"
      },
      "source": [
        "class RNN(nn.Module):\r\n",
        "  def __init__(self, input_size=1, hidden_layer_size=100, output_size=1):\r\n",
        "    super().__init__()\r\n",
        "    self.hidden_layer_size = hidden_layer_size\r\n",
        "\r\n",
        "    self.rnn = nn.RNN(input_size, hidden_layer_size)\r\n",
        "    self.linear = nn.Linear(hidden_layer_size, output_size)\r\n",
        "\r\n",
        "    self.hidden_cell = (torch.zeros(1,1,self.hidden_layer_size))\r\n",
        "\r\n",
        "  def forward(self, input_seq):\r\n",
        "    rnn_out, self.hidden_cell = self.rnn(input_seq.view(len(input_seq) ,1, -1), self.hidden_cell)\r\n",
        "    predictions = self.linear(rnn_out.view(len(input_seq), -1))\r\n",
        "    \r\n",
        "    return predictions[-1]"
      ],
      "execution_count": null,
      "outputs": []
    },
    {
      "cell_type": "code",
      "metadata": {
        "id": "OmPP4M7rmBFP"
      },
      "source": [
        "class LSTM(nn.Module):\r\n",
        "    def __init__(self, input_size=1, hidden_layer_size=100, output_size=1):\r\n",
        "        super().__init__()\r\n",
        "        self.hidden_layer_size = hidden_layer_size\r\n",
        "\r\n",
        "        self.lstm = nn.LSTM(input_size, hidden_layer_size)\r\n",
        "\r\n",
        "        self.linear = nn.Linear(hidden_layer_size, output_size)\r\n",
        "\r\n",
        "        self.hidden_cell = (torch.zeros(1,1,self.hidden_layer_size),\r\n",
        "                            torch.zeros(1,1,self.hidden_layer_size))\r\n",
        "\r\n",
        "    def forward(self, input_seq):\r\n",
        "        lstm_out, self.hidden_cell = self.lstm(input_seq.view(len(input_seq) ,1, -1), self.hidden_cell)\r\n",
        "        predictions = self.linear(lstm_out.view(len(input_seq), -1))\r\n",
        "        return predictions[-1]"
      ],
      "execution_count": null,
      "outputs": []
    },
    {
      "cell_type": "code",
      "metadata": {
        "colab": {
          "base_uri": "https://localhost:8080/"
        },
        "id": "cM6ODGLbc9OS",
        "outputId": "71e0ee70-7452-4f10-ad32-e09e88432e80"
      },
      "source": [
        "model = RNN()\r\n",
        "loss_function = nn.MSELoss()\r\n",
        "optimizer = torch.optim.Adam(model.parameters(), lr=0.001)\r\n",
        "print(model)"
      ],
      "execution_count": null,
      "outputs": [
        {
          "output_type": "stream",
          "text": [
            "RNN(\n",
            "  (rnn): RNN(1, 100)\n",
            "  (linear): Linear(in_features=100, out_features=1, bias=True)\n",
            ")\n"
          ],
          "name": "stdout"
        }
      ]
    },
    {
      "cell_type": "code",
      "metadata": {
        "colab": {
          "base_uri": "https://localhost:8080/"
        },
        "id": "PyjpDek5wFn5",
        "outputId": "af814cc4-1da0-4371-9ddd-2d57d0907fcd"
      },
      "source": [
        "model = LSTM()\r\n",
        "print(model)"
      ],
      "execution_count": null,
      "outputs": [
        {
          "output_type": "stream",
          "text": [
            "LSTM(\n",
            "  (lstm): LSTM(1, 100)\n",
            "  (linear): Linear(in_features=100, out_features=1, bias=True)\n",
            ")\n"
          ],
          "name": "stdout"
        }
      ]
    },
    {
      "cell_type": "code",
      "metadata": {
        "id": "_EvE6_fxc9xv"
      },
      "source": [
        "epochs = 300\r\n",
        "\r\n",
        "for i in range(epochs):\r\n",
        "  for seq, labels in train_inout_seq:\r\n",
        "    optimizer.zero_grad()\r\n",
        "    model.hidden_cell = (torch.zeros(1, 1, model.hidden_layer_size))\r\n",
        "    y_pred = model(seq)\r\n",
        "\r\n",
        "    single_loss = loss_function(y_pred, labels)\r\n",
        "    single_loss.backward()\r\n",
        "    optimizer.step()\r\n",
        "\r\n",
        "  if \r\n",
        "  print(f'epoch: {i:3} loss: {single_loss.item():10.8f}')\r\n"
      ],
      "execution_count": null,
      "outputs": []
    },
    {
      "cell_type": "code",
      "metadata": {
        "id": "sc0FAz15mT42"
      },
      "source": [
        ""
      ],
      "execution_count": null,
      "outputs": []
    }
  ]
}